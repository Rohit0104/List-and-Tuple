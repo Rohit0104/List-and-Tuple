{
 "cells": [
  {
   "cell_type": "code",
   "execution_count": 12,
   "id": "e3d76b39",
   "metadata": {},
   "outputs": [
    {
     "data": {
      "text/plain": [
       "'I am of data  egg cisulazation ML DLbatch at excelR'"
      ]
     },
     "execution_count": 12,
     "metadata": {},
     "output_type": "execute_result"
    }
   ],
   "source": [
    "str =\"I am of data analytics batch at excelR\"\n",
    "str.replace('analytics ',' egg cisulazation ML DL')\n",
    "           \n",
    "           "
   ]
  },
  {
   "cell_type": "code",
   "execution_count": 14,
   "id": "aed3f59c",
   "metadata": {},
   "outputs": [
    {
     "data": {
      "text/plain": [
       "'I Am of dAtA AnAlytiCs BAtCh At exCelR'"
      ]
     },
     "execution_count": 14,
     "metadata": {},
     "output_type": "execute_result"
    }
   ],
   "source": [
    "#str.traslate('abc','ABC')\n",
    "change = str.maketrans('abc','ABC')\n",
    "str.translate(change)"
   ]
  },
  {
   "cell_type": "code",
   "execution_count": 19,
   "id": "33da8806",
   "metadata": {},
   "outputs": [
    {
     "data": {
      "text/plain": [
       "'I am part of data analytics batch at excelR'"
      ]
     },
     "execution_count": 19,
     "metadata": {},
     "output_type": "execute_result"
    }
   ],
   "source": [
    "str=\"I-am_part,of.data~analytics_batch-at~excelR\"\n",
    "changes=str.maketrans('.,~!@#$%^&*()_+-','                ' )\n",
    "str.translate(changes)"
   ]
  },
  {
   "cell_type": "markdown",
   "id": "2fcd8535",
   "metadata": {},
   "source": [
    "# List,Tuple"
   ]
  },
  {
   "cell_type": "code",
   "execution_count": 6,
   "id": "a906ddd6",
   "metadata": {},
   "outputs": [],
   "source": [
    "x=[]"
   ]
  },
  {
   "cell_type": "code",
   "execution_count": 7,
   "id": "1b676250",
   "metadata": {},
   "outputs": [
    {
     "data": {
      "text/plain": [
       "list"
      ]
     },
     "execution_count": 7,
     "metadata": {},
     "output_type": "execute_result"
    }
   ],
   "source": [
    "type(x)"
   ]
  },
  {
   "cell_type": "code",
   "execution_count": 8,
   "id": "4fafdf69",
   "metadata": {},
   "outputs": [],
   "source": [
    "y=()"
   ]
  },
  {
   "cell_type": "code",
   "execution_count": 9,
   "id": "5d09d1f2",
   "metadata": {},
   "outputs": [
    {
     "data": {
      "text/plain": [
       "tuple"
      ]
     },
     "execution_count": 9,
     "metadata": {},
     "output_type": "execute_result"
    }
   ],
   "source": [
    "type(y)"
   ]
  },
  {
   "cell_type": "code",
   "execution_count": 12,
   "id": "d1a35e5f",
   "metadata": {},
   "outputs": [],
   "source": [
    "data = (\"wednesday\",\"AIML\",100,\"Machine Learning\")\n"
   ]
  },
  {
   "cell_type": "code",
   "execution_count": 14,
   "id": "f9691431",
   "metadata": {},
   "outputs": [
    {
     "data": {
      "text/plain": [
       "tuple"
      ]
     },
     "execution_count": 14,
     "metadata": {},
     "output_type": "execute_result"
    }
   ],
   "source": [
    "type(data)"
   ]
  },
  {
   "cell_type": "code",
   "execution_count": 15,
   "id": "32e362db",
   "metadata": {},
   "outputs": [
    {
     "data": {
      "text/plain": [
       "4"
      ]
     },
     "execution_count": 15,
     "metadata": {},
     "output_type": "execute_result"
    }
   ],
   "source": [
    "len(data)"
   ]
  },
  {
   "cell_type": "code",
   "execution_count": 19,
   "id": "b8df0ced",
   "metadata": {},
   "outputs": [
    {
     "data": {
      "text/plain": [
       "3"
      ]
     },
     "execution_count": 19,
     "metadata": {},
     "output_type": "execute_result"
    }
   ],
   "source": [
    "num=(32,5,8,3,79,55,45)\n",
    "min(num)"
   ]
  },
  {
   "cell_type": "code",
   "execution_count": 20,
   "id": "ea095ca9",
   "metadata": {},
   "outputs": [
    {
     "data": {
      "text/plain": [
       "79"
      ]
     },
     "execution_count": 20,
     "metadata": {},
     "output_type": "execute_result"
    }
   ],
   "source": [
    "max(num)"
   ]
  },
  {
   "cell_type": "code",
   "execution_count": 21,
   "id": "b633ff74",
   "metadata": {},
   "outputs": [
    {
     "data": {
      "text/plain": [
       "227"
      ]
     },
     "execution_count": 21,
     "metadata": {},
     "output_type": "execute_result"
    }
   ],
   "source": [
    "sum(num)"
   ]
  },
  {
   "cell_type": "code",
   "execution_count": 24,
   "id": "46249b32",
   "metadata": {},
   "outputs": [],
   "source": [
    "# append extend insert pop remove reverse copy clear index count sort"
   ]
  },
  {
   "cell_type": "code",
   "execution_count": 25,
   "id": "54ee14f1",
   "metadata": {},
   "outputs": [
    {
     "name": "stdout",
     "output_type": "stream",
     "text": [
      "['__add__', '__class__', '__class_getitem__', '__contains__', '__delattr__', '__dir__', '__doc__', '__eq__', '__format__', '__ge__', '__getattribute__', '__getitem__', '__getnewargs__', '__gt__', '__hash__', '__init__', '__init_subclass__', '__iter__', '__le__', '__len__', '__lt__', '__mul__', '__ne__', '__new__', '__reduce__', '__reduce_ex__', '__repr__', '__rmul__', '__setattr__', '__sizeof__', '__str__', '__subclasshook__', 'count', 'index']\n"
     ]
    }
   ],
   "source": [
    "print(dir(num))"
   ]
  },
  {
   "cell_type": "code",
   "execution_count": 26,
   "id": "4db22588",
   "metadata": {},
   "outputs": [
    {
     "data": {
      "text/plain": [
       "['In',\n",
       " 'Out',\n",
       " '_',\n",
       " '_10',\n",
       " '_11',\n",
       " '_13',\n",
       " '_14',\n",
       " '_15',\n",
       " '_17',\n",
       " '_18',\n",
       " '_19',\n",
       " '_2',\n",
       " '_20',\n",
       " '_21',\n",
       " '_5',\n",
       " '_7',\n",
       " '_9',\n",
       " '__',\n",
       " '___',\n",
       " '__builtin__',\n",
       " '__builtins__',\n",
       " '__doc__',\n",
       " '__loader__',\n",
       " '__name__',\n",
       " '__package__',\n",
       " '__spec__',\n",
       " '_dh',\n",
       " '_i',\n",
       " '_i1',\n",
       " '_i10',\n",
       " '_i11',\n",
       " '_i12',\n",
       " '_i13',\n",
       " '_i14',\n",
       " '_i15',\n",
       " '_i16',\n",
       " '_i17',\n",
       " '_i18',\n",
       " '_i19',\n",
       " '_i2',\n",
       " '_i20',\n",
       " '_i21',\n",
       " '_i22',\n",
       " '_i23',\n",
       " '_i24',\n",
       " '_i25',\n",
       " '_i26',\n",
       " '_i3',\n",
       " '_i4',\n",
       " '_i5',\n",
       " '_i6',\n",
       " '_i7',\n",
       " '_i8',\n",
       " '_i9',\n",
       " '_ih',\n",
       " '_ii',\n",
       " '_iii',\n",
       " '_oh',\n",
       " 'data',\n",
       " 'exit',\n",
       " 'get_ipython',\n",
       " 'num',\n",
       " 'quit',\n",
       " 'x',\n",
       " 'y']"
      ]
     },
     "execution_count": 26,
     "metadata": {},
     "output_type": "execute_result"
    }
   ],
   "source": [
    "dir()"
   ]
  },
  {
   "cell_type": "code",
   "execution_count": 27,
   "id": "9eeec5b5",
   "metadata": {},
   "outputs": [
    {
     "data": {
      "text/plain": [
       "<module 'builtins' (built-in)>"
      ]
     },
     "execution_count": 27,
     "metadata": {},
     "output_type": "execute_result"
    }
   ],
   "source": [
    "__builtin__"
   ]
  },
  {
   "cell_type": "code",
   "execution_count": 28,
   "id": "90c76ad6",
   "metadata": {},
   "outputs": [],
   "source": [
    "mytuple=('python','R','SAS','Hadoop','Spark')"
   ]
  },
  {
   "cell_type": "code",
   "execution_count": 29,
   "id": "2a1e9e30",
   "metadata": {},
   "outputs": [
    {
     "data": {
      "text/plain": [
       "'Spark'"
      ]
     },
     "execution_count": 29,
     "metadata": {},
     "output_type": "execute_result"
    }
   ],
   "source": [
    "mytuple[-1]"
   ]
  },
  {
   "cell_type": "code",
   "execution_count": 34,
   "id": "a93c03cb",
   "metadata": {},
   "outputs": [
    {
     "data": {
      "text/plain": [
       "1"
      ]
     },
     "execution_count": 34,
     "metadata": {},
     "output_type": "execute_result"
    }
   ],
   "source": [
    "mytuple.count('python')"
   ]
  },
  {
   "cell_type": "code",
   "execution_count": 35,
   "id": "aaa855ef",
   "metadata": {},
   "outputs": [
    {
     "data": {
      "text/plain": [
       "2"
      ]
     },
     "execution_count": 35,
     "metadata": {},
     "output_type": "execute_result"
    }
   ],
   "source": [
    "mytuple.index('SAS')"
   ]
  },
  {
   "cell_type": "code",
   "execution_count": 36,
   "id": "6696769e",
   "metadata": {},
   "outputs": [],
   "source": [
    "#List is mutable\n",
    "#[]\n",
    "#list take more memory\n",
    "#list takemore rime to process\n",
    "\n",
    "\n",
    "#tuple is immutable\n",
    "#()\n",
    "#tuple take less memory\n",
    "#tuple take less time to process"
   ]
  },
  {
   "cell_type": "code",
   "execution_count": 37,
   "id": "21a0c84c",
   "metadata": {},
   "outputs": [
    {
     "name": "stdout",
     "output_type": "stream",
     "text": [
      "list size 152\n",
      "tuple size 120\n"
     ]
    }
   ],
   "source": [
    "import sys\n",
    "print(\"list size\",sys.getsizeof([1,2,3,4,5,6,7,8,9,10]))\n",
    "print(\"tuple size\",sys.getsizeof((1,2,3,4,5,6,7,8,9,10)))\n"
   ]
  },
  {
   "cell_type": "code",
   "execution_count": 38,
   "id": "e11534a4",
   "metadata": {},
   "outputs": [
    {
     "name": "stdout",
     "output_type": "stream",
     "text": [
      "List takes: 52.13770000000295\n",
      "Tuple takes: 6.342800000084026\n"
     ]
    }
   ],
   "source": [
    "import timeit\n",
    "\n",
    "print(\"List takes:\",timeit.timeit(stmt=\"[1,2,3,4,5,6,7,8,9,10]\",number=1000000)*1000)\n",
    "print(\"Tuple takes:\",timeit.timeit(stmt=\"(1,2,3,4,5,6,7,8,9,10)\",number=1000000)*1000)"
   ]
  },
  {
   "cell_type": "markdown",
   "id": "c33d9c88",
   "metadata": {},
   "source": [
    "HPC => High Performance computers"
   ]
  },
  {
   "cell_type": "code",
   "execution_count": 40,
   "id": "063ade83",
   "metadata": {},
   "outputs": [],
   "source": [
    "#Dictionary"
   ]
  },
  {
   "cell_type": "markdown",
   "id": "a998c3ac",
   "metadata": {},
   "source": [
    "Key value pairs of element\n",
    "it is unordered array\n",
    "dictionary|hash|hasg map|associative array"
   ]
  },
  {
   "cell_type": "code",
   "execution_count": 41,
   "id": "e624916e",
   "metadata": {},
   "outputs": [],
   "source": [
    "mydata={\"today\":\"wednsday\",\"age\":37,\"tech\":\"Python\"}"
   ]
  },
  {
   "cell_type": "code",
   "execution_count": 42,
   "id": "547aedad",
   "metadata": {},
   "outputs": [
    {
     "data": {
      "text/plain": [
       "{'today': 'wednsday', 'age': 37, 'tech': 'Python'}"
      ]
     },
     "execution_count": 42,
     "metadata": {},
     "output_type": "execute_result"
    }
   ],
   "source": [
    "mydata"
   ]
  },
  {
   "cell_type": "code",
   "execution_count": 45,
   "id": "2487761d",
   "metadata": {},
   "outputs": [
    {
     "data": {
      "text/plain": [
       "37"
      ]
     },
     "execution_count": 45,
     "metadata": {},
     "output_type": "execute_result"
    }
   ],
   "source": [
    "mydata[\"age\"]"
   ]
  },
  {
   "cell_type": "code",
   "execution_count": 46,
   "id": "ec15f5ff",
   "metadata": {},
   "outputs": [
    {
     "data": {
      "text/plain": [
       "'Python'"
      ]
     },
     "execution_count": 46,
     "metadata": {},
     "output_type": "execute_result"
    }
   ],
   "source": [
    "mydata[\"tech\"]"
   ]
  },
  {
   "cell_type": "code",
   "execution_count": 47,
   "id": "d1a6eaa9",
   "metadata": {},
   "outputs": [
    {
     "data": {
      "text/plain": [
       "{'today': 'sunday', 'age': 37, 'tech': 'Python'}"
      ]
     },
     "execution_count": 47,
     "metadata": {},
     "output_type": "execute_result"
    }
   ],
   "source": [
    "mydata[\"today\"]=\"sunday\"\n",
    "mydata"
   ]
  },
  {
   "cell_type": "code",
   "execution_count": 49,
   "id": "e7ff7b13",
   "metadata": {},
   "outputs": [
    {
     "name": "stdout",
     "output_type": "stream",
     "text": [
      "{'today': 'sunday', 'age': 37, 'tech': 'Python'}\n"
     ]
    }
   ],
   "source": [
    "print(mydata)"
   ]
  },
  {
   "cell_type": "code",
   "execution_count": 50,
   "id": "623ea861",
   "metadata": {},
   "outputs": [
    {
     "data": {
      "text/plain": [
       "'Python'"
      ]
     },
     "execution_count": 50,
     "metadata": {},
     "output_type": "execute_result"
    }
   ],
   "source": [
    "mydata.pop(\"tech\")"
   ]
  },
  {
   "cell_type": "code",
   "execution_count": 51,
   "id": "a4750bae",
   "metadata": {},
   "outputs": [
    {
     "data": {
      "text/plain": [
       "{'today': 'sunday', 'age': 37}"
      ]
     },
     "execution_count": 51,
     "metadata": {},
     "output_type": "execute_result"
    }
   ],
   "source": [
    "mydata"
   ]
  },
  {
   "cell_type": "code",
   "execution_count": 53,
   "id": "50e746d5",
   "metadata": {},
   "outputs": [
    {
     "data": {
      "text/plain": [
       "dict_keys(['today', 'age'])"
      ]
     },
     "execution_count": 53,
     "metadata": {},
     "output_type": "execute_result"
    }
   ],
   "source": [
    "mydata.keys()"
   ]
  },
  {
   "cell_type": "code",
   "execution_count": 54,
   "id": "01c665a5",
   "metadata": {},
   "outputs": [
    {
     "data": {
      "text/plain": [
       "dict_values(['sunday', 37])"
      ]
     },
     "execution_count": 54,
     "metadata": {},
     "output_type": "execute_result"
    }
   ],
   "source": [
    "mydata.values()"
   ]
  },
  {
   "cell_type": "code",
   "execution_count": 55,
   "id": "f630262d",
   "metadata": {},
   "outputs": [
    {
     "data": {
      "text/plain": [
       "dict_items([('today', 'sunday'), ('age', 37)])"
      ]
     },
     "execution_count": 55,
     "metadata": {},
     "output_type": "execute_result"
    }
   ],
   "source": [
    "mydata.items()"
   ]
  },
  {
   "cell_type": "code",
   "execution_count": 56,
   "id": "16e44171",
   "metadata": {},
   "outputs": [
    {
     "name": "stdout",
     "output_type": "stream",
     "text": [
      "today===>sunday\n",
      "age===>37\n"
     ]
    }
   ],
   "source": [
    "for k in mydata.keys():\n",
    "    print(k +\"===>\"+str(mydata[k]))"
   ]
  },
  {
   "cell_type": "code",
   "execution_count": 58,
   "id": "94a02df1",
   "metadata": {},
   "outputs": [],
   "source": [
    "mydata[\"age\"]=40"
   ]
  },
  {
   "cell_type": "code",
   "execution_count": 60,
   "id": "d910ab7f",
   "metadata": {},
   "outputs": [
    {
     "name": "stdout",
     "output_type": "stream",
     "text": [
      "sunday\n",
      "40\n"
     ]
    }
   ],
   "source": [
    "for k in mydata.keys():\n",
    "    print(mydata[k])"
   ]
  },
  {
   "cell_type": "code",
   "execution_count": 61,
   "id": "462d2375",
   "metadata": {},
   "outputs": [],
   "source": [
    "mydata.update({\"name\":\"Rohit\"})"
   ]
  },
  {
   "cell_type": "code",
   "execution_count": 62,
   "id": "99d4c0bb",
   "metadata": {},
   "outputs": [
    {
     "data": {
      "text/plain": [
       "{'today': 'sunday', 'age': 40, 'name': 'Rohit'}"
      ]
     },
     "execution_count": 62,
     "metadata": {},
     "output_type": "execute_result"
    }
   ],
   "source": [
    "mydata\n"
   ]
  },
  {
   "cell_type": "code",
   "execution_count": 63,
   "id": "46f7d683",
   "metadata": {},
   "outputs": [
    {
     "name": "stdout",
     "output_type": "stream",
     "text": [
      "['__class__', '__class_getitem__', '__contains__', '__delattr__', '__delitem__', '__dir__', '__doc__', '__eq__', '__format__', '__ge__', '__getattribute__', '__getitem__', '__gt__', '__hash__', '__init__', '__init_subclass__', '__ior__', '__iter__', '__le__', '__len__', '__lt__', '__ne__', '__new__', '__or__', '__reduce__', '__reduce_ex__', '__repr__', '__reversed__', '__ror__', '__setattr__', '__setitem__', '__sizeof__', '__str__', '__subclasshook__', 'clear', 'copy', 'fromkeys', 'get', 'items', 'keys', 'pop', 'popitem', 'setdefault', 'update', 'values']\n"
     ]
    }
   ],
   "source": [
    "print(dir(mydata))"
   ]
  },
  {
   "cell_type": "code",
   "execution_count": 66,
   "id": "a0cf2c28",
   "metadata": {},
   "outputs": [],
   "source": [
    "sample_dict = {\n",
    "    \"name\":\"Rohit\",\n",
    "    \"age\": 40,\n",
    "    \"exp\":{\n",
    "        \"infosys\":[\"Python\",\"Perl\",\"Java\"],\n",
    "        \"Paypal\":[\"Pythin\",\"AIML\",\"AWS\"],\n",
    "        \"walmart\":[\"ALML\",[\"AWS\",\"CGP\"]],\n",
    "        \"Shell\":[\"BigData\",\"Snowflakes\"]\n",
    "        \n",
    "    }\n",
    "}"
   ]
  },
  {
   "cell_type": "code",
   "execution_count": 67,
   "id": "429baeaf",
   "metadata": {},
   "outputs": [
    {
     "data": {
      "text/plain": [
       "'CGP'"
      ]
     },
     "execution_count": 67,
     "metadata": {},
     "output_type": "execute_result"
    }
   ],
   "source": [
    "sample_dict.get(\"exp\").get(\"walmart\")[1][-1]"
   ]
  },
  {
   "cell_type": "code",
   "execution_count": 68,
   "id": "bef011bf",
   "metadata": {},
   "outputs": [],
   "source": [
    "myset = {1,2,3,4,5,6,7,8,9,1,2,3,4,5,6,7,8,9}"
   ]
  },
  {
   "cell_type": "code",
   "execution_count": 69,
   "id": "9b9b9051",
   "metadata": {},
   "outputs": [
    {
     "data": {
      "text/plain": [
       "{1, 2, 3, 4, 5, 6, 7, 8, 9}"
      ]
     },
     "execution_count": 69,
     "metadata": {},
     "output_type": "execute_result"
    }
   ],
   "source": [
    "myset"
   ]
  },
  {
   "cell_type": "code",
   "execution_count": 70,
   "id": "06971439",
   "metadata": {},
   "outputs": [],
   "source": [
    "myset.add(11)"
   ]
  },
  {
   "cell_type": "code",
   "execution_count": 71,
   "id": "b37bf8cf",
   "metadata": {},
   "outputs": [
    {
     "data": {
      "text/plain": [
       "{1, 2, 3, 4, 5, 6, 7, 8, 9, 11}"
      ]
     },
     "execution_count": 71,
     "metadata": {},
     "output_type": "execute_result"
    }
   ],
   "source": [
    "myset"
   ]
  },
  {
   "cell_type": "code",
   "execution_count": 72,
   "id": "a5693a09",
   "metadata": {},
   "outputs": [],
   "source": [
    "myset.add(11)"
   ]
  },
  {
   "cell_type": "code",
   "execution_count": 73,
   "id": "b3f14e02",
   "metadata": {},
   "outputs": [
    {
     "data": {
      "text/plain": [
       "{1, 2, 3, 4, 5, 6, 7, 8, 9, 11}"
      ]
     },
     "execution_count": 73,
     "metadata": {},
     "output_type": "execute_result"
    }
   ],
   "source": [
    "myset"
   ]
  },
  {
   "cell_type": "code",
   "execution_count": null,
   "id": "9473d697",
   "metadata": {},
   "outputs": [],
   "source": []
  }
 ],
 "metadata": {
  "kernelspec": {
   "display_name": "Python 3 (ipykernel)",
   "language": "python",
   "name": "python3"
  },
  "language_info": {
   "codemirror_mode": {
    "name": "ipython",
    "version": 3
   },
   "file_extension": ".py",
   "mimetype": "text/x-python",
   "name": "python",
   "nbconvert_exporter": "python",
   "pygments_lexer": "ipython3",
   "version": "3.9.7"
  }
 },
 "nbformat": 4,
 "nbformat_minor": 5
}
